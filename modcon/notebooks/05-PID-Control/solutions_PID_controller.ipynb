{
 "cells": [
  {
   "cell_type": "markdown",
   "metadata": {},
   "source": [
    "<p style=\"text-align: right\">\n",
    "  <img src=\"../../assets/images/dtlogo.png\" alt=\"Logo\" width=\"200\">\n",
    "</p>"
   ]
  },
  {
   "cell_type": "markdown",
   "metadata": {
    "tags": [
     "skip"
    ]
   },
   "source": [
    "# 💻 🚙 06 - PID: Heading control (SOLUTION)\n"
   ]
  },
  {
   "cell_type": "code",
   "execution_count": null,
   "metadata": {
    "tags": [
     "export"
    ]
   },
   "outputs": [],
   "source": [
    "import numpy as np\n",
    "\n",
    "# Heading control\n",
    "# Do not change the name of the function, inputs or outputs. It will break things.\n",
    "\n",
    "def PIDController(v_0, theta_ref, theta_hat, prev_e, prev_int, delta_t): #add theta_ref as input\n",
    "    \"\"\"\n",
    "    Args:\n",
    "        v_0 (:double:) linear Duckiebot speed (given).\n",
    "        theta_ref (:double:) reference heading pose\n",
    "        theta_hat (:double:) the current estiamted theta.\n",
    "        prev_e (:double:) tracking error at previous iteration.\n",
    "        prev_int (:double:) previous integral error term.\n",
    "        delta_t (:double:) time interval since last call.\n",
    "    returns:\n",
    "        v_0 (:double:) linear velocity of the Duckiebot \n",
    "        omega (:double:) angular velocity of the Duckiebot\n",
    "        e (:double:) current tracking error (automatically becomes prev_e at next iteration).\n",
    "        e_int (:double:) current integral error (automatically becomes prev_int at next iteration).\n",
    "    \"\"\"\n",
    "    \n",
    "   # Tracking error\n",
    "    e = theta_ref - theta_hat\n",
    "\n",
    "    # integral of the error\n",
    "    e_int = prev_int + e*delta_t\n",
    "\n",
    "    # anti-windup - preventing the integral error from growing too much\n",
    "    e_int = max(min(e_int,2),-2)\n",
    "\n",
    "    # derivative of the error\n",
    "    e_der = (e - prev_e)/delta_t\n",
    "\n",
    "    # controller coefficients\n",
    "    Kp = 5\n",
    "    Ki = 0.2\n",
    "    Kd = 0.1\n",
    "\n",
    "    # PID controller for omega\n",
    "    omega = Kp*e + Ki*e_int + Kd*e_der\n",
    "    \n",
    "    #print(f\"\\n\\nDelta time : {delta_t} \\nE : {np.rad2deg(e)} \\nE int : {e_int} \\nPrev e : {prev_e} \\nU : {u} \\nTheta hat: {np.rad2deg(theta_hat)} \\n\")\n",
    "     \n",
    "    return v_0, omega, e, e_int"
   ]
  },
  {
   "cell_type": "code",
   "execution_count": null,
   "metadata": {},
   "outputs": [],
   "source": [
    "import matplotlib.pyplot as plt\n",
    "import numpy as np \n",
    "\n",
    "import sys\n",
    "sys.path.append('../../')\n",
    "from tests.unit_test import UnitTestHeadingPID\n",
    "\n",
    "# This is for quick testing purposes only - you can try different values of v_init and R, L or the ones you determined before. Try to change R, L for fun.\n",
    "v_test = 0.2\n",
    "R_test = 0.033 # m\n",
    "baseline_test = 0.09 # m\n",
    "gain_test = 0.6 \n",
    "trim_test = 0 \n",
    "thata_ref= 50*np.pi/180 # in rad\n",
    "\n",
    "# Sanity check (not a faithful representation of the actual behavior, given the motion model is assumed to be exactly known)\n",
    "unit_test = UnitTestHeadingPID(R_test, baseline_test, v_test,thata_ref, gain_test, trim_test, PIDController) \n",
    "unit_test.test()"
   ]
  }
 ],
 "metadata": {
  "kernelspec": {
   "display_name": "Python 3.8.10 64-bit",
   "language": "python",
   "name": "python3"
  },
  "language_info": {
   "codemirror_mode": {
    "name": "ipython",
    "version": 3
   },
   "file_extension": ".py",
   "mimetype": "text/x-python",
   "name": "python",
   "nbconvert_exporter": "python",
   "pygments_lexer": "ipython3",
   "version": "3.8.10"
  },
  "metadata": {
   "interpreter": {
    "hash": "31f2aee4e71d21fbe5cf8b01ff0e069b9275f58929596ceb00d14d90e3e16cd6"
   }
  },
  "vscode": {
   "interpreter": {
    "hash": "916dbcbb3f70747c44a77c7bcd40155683ae19c65e1c03b4aa3499c5328201f1"
   }
  }
 },
 "nbformat": 4,
 "nbformat_minor": 4
}
